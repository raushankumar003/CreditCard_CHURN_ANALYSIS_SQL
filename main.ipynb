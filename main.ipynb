{
 "cells": [
  {
   "cell_type": "code",
   "execution_count": 1,
   "metadata": {},
   "outputs": [],
   "source": [
    "#  INSTALL IPYTHON-SQL:\n",
    "# !pip install ipython-sql --quiet\n",
    "\n",
    "\n",
    "# IMPORT NECESSARY LIBRARIES:\n",
    "import pandas as pd\n",
    "import sqlite3\n",
    "\n",
    "\n",
    "# DEFINE PATHS:\n",
    "BANK_CHURNERS_PATH = './data/csv/bank_churners.csv'\n",
    "CLIENT_INFO_PATH = './data/csv/basic_client_info.csv'\n",
    "CHURN_DATA_PATH = './data/csv/enriched_churn_data.csv'\n",
    "DB_PATH = './data/db/churn.db'"
   ]
  },
  {
   "cell_type": "markdown",
   "metadata": {},
   "source": [
    "NOTES & REFERENCES: \n",
    "https://holypython.com/python-sqlite-tutorial/python-magic-for-sql/?expand_article=1 \n",
    "\n",
    "```\n",
    "%%sql result << \n",
    "QUERY\n",
    "```\n",
    "for multi-line query \n",
    "\n",
    "```\n",
    "% sql result = QUERY\n",
    "```\n",
    "for single line query"
   ]
  },
  {
   "cell_type": "markdown",
   "metadata": {},
   "source": [
    "Reading the data into a pandas a dataframe: "
   ]
  },
  {
   "cell_type": "code",
   "execution_count": 2,
   "metadata": {},
   "outputs": [],
   "source": [
    "bank_churners = pd.read_csv(BANK_CHURNERS_PATH)\n",
    "client_info = pd.read_csv(CLIENT_INFO_PATH)\n",
    "churn_data= pd.read_csv(CHURN_DATA_PATH)"
   ]
  },
  {
   "cell_type": "code",
   "execution_count": 3,
   "metadata": {},
   "outputs": [
    {
     "data": {
      "text/html": [
       "<div>\n",
       "<style scoped>\n",
       "    .dataframe tbody tr th:only-of-type {\n",
       "        vertical-align: middle;\n",
       "    }\n",
       "\n",
       "    .dataframe tbody tr th {\n",
       "        vertical-align: top;\n",
       "    }\n",
       "\n",
       "    .dataframe thead th {\n",
       "        text-align: right;\n",
       "    }\n",
       "</style>\n",
       "<table border=\"1\" class=\"dataframe\">\n",
       "  <thead>\n",
       "    <tr style=\"text-align: right;\">\n",
       "      <th></th>\n",
       "      <th>clientnum</th>\n",
       "      <th>attrition_flag</th>\n",
       "      <th>dependent_count</th>\n",
       "      <th>card_category</th>\n",
       "      <th>months_on_book</th>\n",
       "      <th>months_inactive_12_mon</th>\n",
       "      <th>contacts_count_12_mon</th>\n",
       "      <th>credit_limit</th>\n",
       "      <th>avg_open_to_buy</th>\n",
       "      <th>avg_utilization_ratio</th>\n",
       "    </tr>\n",
       "  </thead>\n",
       "  <tbody>\n",
       "    <tr>\n",
       "      <th>0</th>\n",
       "      <td>806160108</td>\n",
       "      <td>Existing Customer</td>\n",
       "      <td>1</td>\n",
       "      <td>Blue</td>\n",
       "      <td>56</td>\n",
       "      <td>2</td>\n",
       "      <td>3</td>\n",
       "      <td>3193.0</td>\n",
       "      <td>676.0</td>\n",
       "      <td>0.788</td>\n",
       "    </tr>\n",
       "    <tr>\n",
       "      <th>1</th>\n",
       "      <td>804424383</td>\n",
       "      <td>Existing Customer</td>\n",
       "      <td>1</td>\n",
       "      <td>Blue</td>\n",
       "      <td>56</td>\n",
       "      <td>3</td>\n",
       "      <td>2</td>\n",
       "      <td>10215.0</td>\n",
       "      <td>9205.0</td>\n",
       "      <td>0.099</td>\n",
       "    </tr>\n",
       "  </tbody>\n",
       "</table>\n",
       "</div>"
      ],
      "text/plain": [
       "   clientnum     attrition_flag  dependent_count card_category  \\\n",
       "0  806160108  Existing Customer                1          Blue   \n",
       "1  804424383  Existing Customer                1          Blue   \n",
       "\n",
       "   months_on_book  months_inactive_12_mon  contacts_count_12_mon  \\\n",
       "0              56                       2                      3   \n",
       "1              56                       3                      2   \n",
       "\n",
       "   credit_limit  avg_open_to_buy  avg_utilization_ratio  \n",
       "0        3193.0            676.0                  0.788  \n",
       "1       10215.0           9205.0                  0.099  "
      ]
     },
     "metadata": {},
     "output_type": "display_data"
    },
    {
     "data": {
      "text/html": [
       "<div>\n",
       "<style scoped>\n",
       "    .dataframe tbody tr th:only-of-type {\n",
       "        vertical-align: middle;\n",
       "    }\n",
       "\n",
       "    .dataframe tbody tr th {\n",
       "        vertical-align: top;\n",
       "    }\n",
       "\n",
       "    .dataframe thead th {\n",
       "        text-align: right;\n",
       "    }\n",
       "</style>\n",
       "<table border=\"1\" class=\"dataframe\">\n",
       "  <thead>\n",
       "    <tr style=\"text-align: right;\">\n",
       "      <th></th>\n",
       "      <th>clientnum</th>\n",
       "      <th>customer_age</th>\n",
       "      <th>gender</th>\n",
       "      <th>education_level</th>\n",
       "      <th>marital_status</th>\n",
       "      <th>income_category</th>\n",
       "    </tr>\n",
       "  </thead>\n",
       "  <tbody>\n",
       "    <tr>\n",
       "      <th>0</th>\n",
       "      <td>708082083</td>\n",
       "      <td>45</td>\n",
       "      <td>F</td>\n",
       "      <td>High School</td>\n",
       "      <td>Married</td>\n",
       "      <td>Less than $40K</td>\n",
       "    </tr>\n",
       "    <tr>\n",
       "      <th>1</th>\n",
       "      <td>708083283</td>\n",
       "      <td>58</td>\n",
       "      <td>M</td>\n",
       "      <td>Unknown</td>\n",
       "      <td>Single</td>\n",
       "      <td>$40K - $60K</td>\n",
       "    </tr>\n",
       "  </tbody>\n",
       "</table>\n",
       "</div>"
      ],
      "text/plain": [
       "   clientnum  customer_age gender education_level marital_status  \\\n",
       "0  708082083            45      F     High School        Married   \n",
       "1  708083283            58      M         Unknown         Single   \n",
       "\n",
       "  income_category  \n",
       "0  Less than $40K  \n",
       "1     $40K - $60K  "
      ]
     },
     "metadata": {},
     "output_type": "display_data"
    },
    {
     "data": {
      "text/html": [
       "<div>\n",
       "<style scoped>\n",
       "    .dataframe tbody tr th:only-of-type {\n",
       "        vertical-align: middle;\n",
       "    }\n",
       "\n",
       "    .dataframe tbody tr th {\n",
       "        vertical-align: top;\n",
       "    }\n",
       "\n",
       "    .dataframe thead th {\n",
       "        text-align: right;\n",
       "    }\n",
       "</style>\n",
       "<table border=\"1\" class=\"dataframe\">\n",
       "  <thead>\n",
       "    <tr style=\"text-align: right;\">\n",
       "      <th></th>\n",
       "      <th>clientnum</th>\n",
       "      <th>total_relationship_count</th>\n",
       "      <th>total_revolving_bal</th>\n",
       "      <th>total_amt_chng_q4_q1</th>\n",
       "      <th>total_trans_amt</th>\n",
       "      <th>total_ct_chng_q4_q1</th>\n",
       "      <th>total_trans_ct</th>\n",
       "    </tr>\n",
       "  </thead>\n",
       "  <tbody>\n",
       "    <tr>\n",
       "      <th>0</th>\n",
       "      <td>828343083</td>\n",
       "      <td>3</td>\n",
       "      <td>1793</td>\n",
       "      <td>0.803</td>\n",
       "      <td>3646</td>\n",
       "      <td>0.659</td>\n",
       "      <td>68</td>\n",
       "    </tr>\n",
       "    <tr>\n",
       "      <th>1</th>\n",
       "      <td>828298908</td>\n",
       "      <td>4</td>\n",
       "      <td>2035</td>\n",
       "      <td>0.613</td>\n",
       "      <td>1770</td>\n",
       "      <td>0.741</td>\n",
       "      <td>47</td>\n",
       "    </tr>\n",
       "  </tbody>\n",
       "</table>\n",
       "</div>"
      ],
      "text/plain": [
       "   clientnum  total_relationship_count  total_revolving_bal  \\\n",
       "0  828343083                         3                 1793   \n",
       "1  828298908                         4                 2035   \n",
       "\n",
       "   total_amt_chng_q4_q1  total_trans_amt  total_ct_chng_q4_q1  total_trans_ct  \n",
       "0                 0.803             3646                0.659              68  \n",
       "1                 0.613             1770                0.741              47  "
      ]
     },
     "metadata": {},
     "output_type": "display_data"
    }
   ],
   "source": [
    "display(bank_churners.head(2),\n",
    "        client_info.head(2),\n",
    "        churn_data.head(2)\n",
    "        )"
   ]
  },
  {
   "cell_type": "code",
   "execution_count": 4,
   "metadata": {},
   "outputs": [
    {
     "data": {
      "text/plain": [
       "10127"
      ]
     },
     "execution_count": 4,
     "metadata": {},
     "output_type": "execute_result"
    }
   ],
   "source": [
    "database = sqlite3.connect(DB_PATH)\n",
    "bank_churners.to_sql('bank_churners', database)\n",
    "client_info.to_sql('client_info', database)\n",
    "churn_data.to_sql('churn_data', database)"
   ]
  },
  {
   "cell_type": "code",
   "execution_count": 5,
   "metadata": {},
   "outputs": [],
   "source": [
    "%load_ext sql\n",
    "%sql sqlite:///data/db/churn.db "
   ]
  },
  {
   "cell_type": "code",
   "execution_count": 15,
   "metadata": {},
   "outputs": [
    {
     "name": "stdout",
     "output_type": "stream",
     "text": [
      " * sqlite:///data/db/churn.db\n",
      "(sqlite3.OperationalError) no such column: ROW_NUM\n",
      "[SQL: SELECT * \n",
      "from client_info\n",
      "where ROW_NUM < 5]\n",
      "(Background on this error at: https://sqlalche.me/e/20/e3q8)\n"
     ]
    }
   ],
   "source": [
    "%%sql\n",
    "\n",
    "SELECT * \n",
    "from client_info\n",
    "where ROW_NUM < 5"
   ]
  },
  {
   "cell_type": "code",
   "execution_count": null,
   "metadata": {},
   "outputs": [],
   "source": [
    "result = _ \n",
    "result"
   ]
  },
  {
   "cell_type": "markdown",
   "metadata": {},
   "source": [
    "DESCRIBE THE TABLE:"
   ]
  },
  {
   "cell_type": "code",
   "execution_count": null,
   "metadata": {},
   "outputs": [],
   "source": [
    "%%sql \n",
    "\n",
    "SELECT *\n",
    "FROM customers;\n",
    "PRAGMA table_info(customers);"
   ]
  },
  {
   "cell_type": "markdown",
   "metadata": {},
   "source": [
    "/*data cleaning*/\n",
    "-- checking for misssing values"
   ]
  },
  {
   "cell_type": "code",
   "execution_count": null,
   "metadata": {},
   "outputs": [],
   "source": [
    "%%sql\n",
    "\n",
    "SELECT *\n",
    "FROM customers\n",
    "WHERE CLIENTNUM is NULL OR Attrition_Flag IS NULL OR Customer_Age IS NULL OR Gender IS NULL OR Dependent_count is NULL OR Education_Level IS NULL OR Marital_Status IS Null;"
   ]
  },
  {
   "cell_type": "markdown",
   "metadata": {},
   "source": [
    "-- there are no missing values\n",
    "\n",
    "/*unique Customers\n",
    "There's a total of 10127 customers*/"
   ]
  },
  {
   "cell_type": "code",
   "execution_count": null,
   "metadata": {},
   "outputs": [],
   "source": [
    "%%sql \n",
    "\n",
    "SELECT \n",
    "DISTINCT CLIENTNUM\n",
    "FROM customers\n",
    "LIMIT 5;"
   ]
  },
  {
   "cell_type": "code",
   "execution_count": null,
   "metadata": {},
   "outputs": [],
   "source": [
    "%%sql \n",
    "\n",
    "SELECT \n",
    "concat(round(COUNT(CASE WHEN Attrition_Flag = '1' THEN Clientnum END) / COUNT(Clientnum),2) * 100,'%') AS churn_rate,\n",
    "concat(round(COUNT(CASE WHEN Attrition_Flag = '0' THEN Clientnum END) / COUNT(Clientnum),2) * 100,'%') AS retention_rate\n",
    "FROM customers;"
   ]
  },
  {
   "cell_type": "code",
   "execution_count": null,
   "metadata": {},
   "outputs": [],
   "source": [
    "%%sql \n",
    "\n",
    "SELECT DISTINCT Attrition_Flag\n",
    "FROM customers;"
   ]
  },
  {
   "cell_type": "markdown",
   "metadata": {},
   "source": [
    "/*Column Manipulation\n",
    "transforming the customer_age column into bins using the case statement*/"
   ]
  },
  {
   "cell_type": "code",
   "execution_count": null,
   "metadata": {},
   "outputs": [],
   "source": [
    "%%sql\n",
    "\n",
    "SELECT \n",
    "COUNT(Attrition_FLag) AS existing_customer_count\n",
    "FROM customers\n",
    "WHERE Attrition_Flag ='Existing Customer';"
   ]
  },
  {
   "cell_type": "markdown",
   "metadata": {},
   "source": [
    "-- there are 8500 existing customers"
   ]
  },
  {
   "cell_type": "code",
   "execution_count": null,
   "metadata": {},
   "outputs": [],
   "source": [
    "%%sql\n",
    "\n",
    "SELECT \n",
    "COUNT(Attrition_Flag) AS churned_customer_count\n",
    "FROM customers\n",
    "WHERE Attrition_Flag ='Attrited Customer';"
   ]
  },
  {
   "cell_type": "markdown",
   "metadata": {},
   "source": [
    "-- there are 1627 churned customers indicating high imbalance"
   ]
  },
  {
   "cell_type": "code",
   "execution_count": null,
   "metadata": {},
   "outputs": [],
   "source": [
    "%%sql\n",
    "\n",
    "SELECT\n",
    "Attrition_FLag,\n",
    "CASE \n",
    "WHEN Attrition_FLag ='Attrited Customer' THEN 1 \n",
    "ELSE 0 END AS attrited_customer\n",
    "FROM customers\n",
    "GROUP BY Attrition_Flag;"
   ]
  },
  {
   "cell_type": "code",
   "execution_count": null,
   "metadata": {},
   "outputs": [],
   "source": [
    "%%sql\n",
    "\n",
    "UPDATE customers\n",
    "SET Attrition_Flag=CASE \n",
    "WHEN Attrition_FLag ='Attrited Customer' THEN 1 \n",
    "ELSE 0 END;\n",
    "SELECT \n",
    "Attrition_Flag\n",
    "FROM customers\n",
    "GROUP BY Attrition_Flag;"
   ]
  },
  {
   "cell_type": "code",
   "execution_count": null,
   "metadata": {},
   "outputs": [],
   "source": [
    "%%sql\n",
    "\n",
    "SELECT \n",
    "round(COUNT(CASE WHEN Attrition_Flag = 1 THEN CLIENTNUM END) / COUNT(CLIENTNUM), 2) * 100  AS churn_rate,\n",
    "round(COUNT(CASE WHEN Attrition_Flag = 0 THEN CLIENTNUM END) / COUNT(CLIENTNUM), 2) * 100  AS retention_rate\n",
    "FROM customers;"
   ]
  },
  {
   "cell_type": "markdown",
   "metadata": {},
   "source": [
    "-- customer Age"
   ]
  },
  {
   "cell_type": "code",
   "execution_count": null,
   "metadata": {},
   "outputs": [],
   "source": [
    "%%sql \n",
    "\n",
    "SELECT \n",
    "MAX(Customer_Age) AS max_age,\n",
    "MIN(Customer_Age) AS min_age\n",
    "FROM customers;"
   ]
  },
  {
   "cell_type": "markdown",
   "metadata": {},
   "source": [
    "-- the eldest customer is 73 while the youngest is 26"
   ]
  },
  {
   "cell_type": "code",
   "execution_count": null,
   "metadata": {},
   "outputs": [],
   "source": [
    "%%sql \n",
    "\n",
    "SELECT \n",
    "    Customer_Age,\n",
    "    SUM(CASE WHEN Attrition_Flag = '1' THEN 1 ELSE 0 END) AS churned_customer_count,\n",
    "    SUM(CASE WHEN Attrition_Flag = '0' THEN 1 ELSE 0 END) AS existing_customer_count,\n",
    "    ROUND((SUM(CASE WHEN Attrition_Flag = '1' THEN 1 ELSE 0 END) * 1.0 / (SUM(CASE WHEN Attrition_Flag = '0' THEN 1 ELSE 0 END) + SUM(CASE WHEN Attrition_Flag = '1' THEN 1 ELSE 0 END))) * 100, 2) || '%' AS churn_rate,\n",
    "    ROUND((SUM(CASE WHEN Attrition_Flag = '0' THEN 1 ELSE 0 END) * 1.0 / (SUM(CASE WHEN Attrition_Flag = '1' THEN 1 ELSE 0 END) + SUM(CASE WHEN Attrition_Flag = '0' THEN 1 ELSE 0 END))) * 100, 2) || '%' AS retention_rate\n",
    "FROM customers\n",
    "GROUP BY Customer_Age\n",
    "ORDER BY Customer_Age ASC;"
   ]
  },
  {
   "cell_type": "code",
   "execution_count": null,
   "metadata": {},
   "outputs": [],
   "source": [
    "%%sql\n",
    "\n",
    "SELECT \n",
    "    Gender,\n",
    "    SUM(CASE WHEN Attrition_Flag = '1' THEN 1 ELSE 0 END) AS churned_customer_count,\n",
    "    SUM(CASE WHEN Attrition_Flag = '0' THEN 1 ELSE 0 END) AS existing_customer_count,\n",
    "    CAST(ROUND((SUM(CASE WHEN Attrition_Flag = '1' THEN 1 ELSE 0 END) * 1.0 / (SUM(CASE WHEN Attrition_Flag = '0' THEN 1 ELSE 0 END) + SUM(CASE WHEN Attrition_Flag = '1' THEN 1 ELSE 0 END))) * 100, 2) AS TEXT) || '%' AS churn_rate\n",
    "FROM customers\n",
    "GROUP BY Gender\n",
    "ORDER BY Gender ASC;\n"
   ]
  },
  {
   "cell_type": "code",
   "execution_count": null,
   "metadata": {},
   "outputs": [],
   "source": [
    "%%sql \n",
    "\n",
    "SELECT \n",
    "Dependent_count,\n",
    "SUM(CASE WHEN Attrition_Flag = '1' THEN 1 ELSE 0 END) AS churned_customer_count,\n",
    "SUM(CASE WHEN Attrition_Flag = '0' THEN 1 ELSE 0 END) AS existing_customer_count,\n",
    "ROUND((SUM(CASE WHEN Attrition_Flag = '1' THEN 1 ELSE 0 END) / (SUM(CASE WHEN Attrition_Flag = '0' THEN 1 ELSE 0 END) + SUM(CASE WHEN Attrition_Flag = '1' THEN 1 ELSE 0 END))) * 100, 2) || '%' AS churn_rate\n",
    "FROM customers\n",
    "GROUP BY Dependent_count\n",
    "ORDER BY Dependent_count ASC; "
   ]
  },
  {
   "cell_type": "code",
   "execution_count": null,
   "metadata": {},
   "outputs": [],
   "source": [
    "%%sql \n",
    "\n",
    "SELECT \n",
    "Education_Level,\n",
    "SUM(CASE WHEN Attrition_Flag = '1' THEN 1 ELSE 0 END) AS churned_customer_count,\n",
    "SUM(CASE WHEN Attrition_Flag = '0' THEN 1 ELSE 0 END) AS existing_customer_count,\n",
    "CONCAT(ROUND((SUM(CASE WHEN Attrition_Flag = '1' THEN 1 ELSE 0 END) / (SUM(CASE WHEN Attrition_Flag = '0' THEN 1 ELSE 0 END) + SUM(CASE WHEN Attrition_Flag = '1' THEN 1 ELSE 0 END))) * 100, 2), '%') AS churn_rate\n",
    "FROM customers\n",
    "GROUP BY Education_Level\n",
    "ORDER BY Education_Level ASC;"
   ]
  },
  {
   "cell_type": "code",
   "execution_count": null,
   "metadata": {},
   "outputs": [],
   "source": [
    "%%sql\n",
    "\n",
    "SELECT \n",
    "Marital_Status,\n",
    "SUM(CASE WHEN Attrition_Flag = '1' THEN 1 ELSE 0 END) AS churned_customer_count,\n",
    "SUM(CASE WHEN Attrition_Flag = '0' THEN 1 ELSE 0 END) AS existing_customer_count,\n",
    "CONCAT(ROUND((SUM(CASE WHEN Attrition_Flag = '1' THEN 1 ELSE 0 END) / (SUM(CASE WHEN Attrition_Flag = '0' THEN 1 ELSE 0 END) + SUM(CASE WHEN Attrition_Flag = '1' THEN 1 ELSE 0 END))) * 100, 2), '%') AS churn_rate\n",
    "FROM customers\n",
    "GROUP BY Marital_Status\n",
    "ORDER BY Marital_Status ASC;"
   ]
  },
  {
   "cell_type": "code",
   "execution_count": null,
   "metadata": {},
   "outputs": [],
   "source": [
    "%%sql\n",
    "\n",
    "SELECT \n",
    "Income_Category,\n",
    "SUM(CASE WHEN Attrition_Flag = '1' THEN 1 ELSE 0 END) AS churned_customer_count,\n",
    "SUM(CASE WHEN Attrition_Flag = '0' THEN 1 ELSE 0 END) AS existing_customer_count,\n",
    "SUM(CASE WHEN Attrition_Flag = '0' THEN 1 ELSE 0 END) -SUM(CASE WHEN Attrition_Flag = '1' THEN 1 ELSE 0 END) AS difference,\n",
    "CONCAT(ROUND((SUM(CASE WHEN Attrition_Flag = '1' THEN 1 ELSE 0 END) / (SUM(CASE WHEN Attrition_Flag = '0' THEN 1 ELSE 0 END) + SUM(CASE WHEN Attrition_Flag = '1' THEN 1 ELSE 0 END))) * 100, 2), '%') AS churn_rate\n",
    "FROM customers\n",
    "GROUP BY Income_Category\n",
    "ORDER BY Income_Category ASC;"
   ]
  },
  {
   "cell_type": "code",
   "execution_count": null,
   "metadata": {},
   "outputs": [],
   "source": [
    "%%sql\n",
    "\n",
    "SELECT \n",
    "Card_Category,\n",
    "SUM(CASE WHEN Attrition_Flag = '1' THEN 1 ELSE 0 END) AS churned_customer_count,\n",
    "SUM(CASE WHEN Attrition_Flag = '0' THEN 1 ELSE 0 END) AS existing_customer_count,\n",
    "SUM(CASE WHEN Attrition_Flag = '0' THEN 1 ELSE 0 END) -SUM(CASE WHEN Attrition_Flag = '1' THEN 1 ELSE 0 END) AS difference,\n",
    "CONCAT(ROUND((SUM(CASE WHEN Attrition_Flag = '1' THEN 1 ELSE 0 END) / (SUM(CASE WHEN Attrition_Flag = '0' THEN 1 ELSE 0 END) + SUM(CASE WHEN Attrition_Flag = '1' THEN 1 ELSE 0 END))) * 100, 2), '%') AS churn_rate\n",
    "FROM customers\n",
    "GROUP BY Card_Category\n",
    "ORDER BY Card_Category ASC;"
   ]
  },
  {
   "cell_type": "code",
   "execution_count": null,
   "metadata": {},
   "outputs": [],
   "source": [
    "%%sql\n",
    "\n",
    "SELECT \n",
    "Months_on_book,\n",
    "SUM(CASE WHEN Attrition_Flag = '1' THEN 1 ELSE 0 END) AS churned_customer_count,\n",
    "SUM(CASE WHEN Attrition_Flag = '0' THEN 1 ELSE 0 END) AS existing_customer_count,\n",
    "SUM(CASE WHEN Attrition_Flag = '0' THEN 1 ELSE 0 END) -SUM(CASE WHEN Attrition_Flag = '1' THEN 1 ELSE 0 END) AS difference,\n",
    "CONCAT(ROUND((SUM(CASE WHEN Attrition_Flag = '1' THEN 1 ELSE 0 END) / (SUM(CASE WHEN Attrition_Flag = '0' THEN 1 ELSE 0 END) + SUM(CASE WHEN Attrition_Flag = '1' THEN 1 ELSE 0 END))) * 100, 2), '%') AS churn_rate,\n",
    "CONCAT(ROUND((SUM(CASE WHEN Attrition_Flag = '0' THEN 1 ELSE 0 END) / (SUM(CASE WHEN Attrition_Flag = '1' THEN 1 ELSE 0 END) + SUM(CASE WHEN Attrition_Flag = '0' THEN 1 ELSE 0 END))) * 100, 2), '%') AS retention_rate\n",
    "FROM customers\n",
    "GROUP BY Months_on_book\n",
    "ORDER BY Months_on_book ASC;"
   ]
  },
  {
   "cell_type": "code",
   "execution_count": null,
   "metadata": {},
   "outputs": [],
   "source": [
    "%%sql\n",
    "\n",
    "SELECT \n",
    "Total_Relationship_Count,\n",
    "SUM(CASE WHEN Attrition_Flag = '1' THEN 1 ELSE 0 END) AS churned_customer_count,\n",
    "SUM(CASE WHEN Attrition_Flag = '0' THEN 1 ELSE 0 END) AS existing_customer_count,\n",
    "SUM(CASE WHEN Attrition_Flag = '0' THEN 1 ELSE 0 END) -SUM(CASE WHEN Attrition_Flag = '1' THEN 1 ELSE 0 END) AS difference,\n",
    "CONCAT(ROUND((SUM(CASE WHEN Attrition_Flag = '1' THEN 1 ELSE 0 END) / (SUM(CASE WHEN Attrition_Flag = '0' THEN 1 ELSE 0 END) + SUM(CASE WHEN Attrition_Flag = '1' THEN 1 ELSE 0 END))) * 100, 2), '%') AS churn_rate,\n",
    "CONCAT(ROUND((SUM(CASE WHEN Attrition_Flag = '0' THEN 1 ELSE 0 END) / (SUM(CASE WHEN Attrition_Flag = '1' THEN 1 ELSE 0 END) + SUM(CASE WHEN Attrition_Flag = '0' THEN 1 ELSE 0 END))) * 100, 2), '%') AS retention_rate\n",
    "FROM customers\n",
    "GROUP BY Total_Relationship_Count\n",
    "ORDER BY Total_Relationship_Count ASC;"
   ]
  },
  {
   "cell_type": "code",
   "execution_count": null,
   "metadata": {},
   "outputs": [],
   "source": [
    "%%sql\n",
    "\n",
    "SELECT \n",
    "Months_Inactive_12_mon,\n",
    "SUM(CASE WHEN Attrition_Flag = '1' THEN 1 ELSE 0 END) AS churned_customer_count,\n",
    "SUM(CASE WHEN Attrition_Flag = '0' THEN 1 ELSE 0 END) AS existing_customer_count,\n",
    "CONCAT(ROUND((SUM(CASE WHEN Attrition_Flag = '1' THEN 1 ELSE 0 END) / (SUM(CASE WHEN Attrition_Flag = '0' THEN 1 ELSE 0 END) + SUM(CASE WHEN Attrition_Flag = '1' THEN 1 ELSE 0 END))) * 100, 2), '%') AS churn_rate,\n",
    "CONCAT(ROUND((SUM(CASE WHEN Attrition_Flag = '0' THEN 1 ELSE 0 END) / (SUM(CASE WHEN Attrition_Flag = '1' THEN 1 ELSE 0 END) + SUM(CASE WHEN Attrition_Flag = '0' THEN 1 ELSE 0 END))) * 100, 2), '%') AS retention_rate\n",
    "FROM customers\n",
    "GROUP BY Months_Inactive_12_mon\n",
    "ORDER BY Months_Inactive_12_mon ASC;\n"
   ]
  },
  {
   "cell_type": "code",
   "execution_count": null,
   "metadata": {},
   "outputs": [],
   "source": [
    "%%sql\n",
    "\n",
    "SELECT \n",
    "Contacts_Count_12_mon,\n",
    "SUM(CASE WHEN Attrition_Flag = '1' THEN 1 ELSE 0 END) AS churned_customer_count,\n",
    "SUM(CASE WHEN Attrition_Flag = '0' THEN 1 ELSE 0 END) AS existing_customer_count,\n",
    "CONCAT(ROUND((SUM(CASE WHEN Attrition_Flag = '1' THEN 1 ELSE 0 END) / (SUM(CASE WHEN Attrition_Flag = '0' THEN 1 ELSE 0 END) + SUM(CASE WHEN Attrition_Flag = '1' THEN 1 ELSE 0 END))) * 100, 2), '%') AS churn_rate\n",
    "FROM customers\n",
    "GROUP BY Contacts_Count_12_mon\n",
    "ORDER BY Contacts_Count_12_mon ASC;"
   ]
  },
  {
   "cell_type": "code",
   "execution_count": null,
   "metadata": {},
   "outputs": [],
   "source": [
    "%%sql\n",
    "\n",
    "SELECT \n",
    "Attrition_Flag,\n",
    "SUM(Total_Trans_Amt) AS total_transaction_amount,\n",
    "SUM(CASE WHEN Attrition_Flag = '1' THEN 1 ELSE 0 END) AS churned_customer_count,\n",
    "SUM(CASE WHEN Attrition_Flag = '0' THEN 1 ELSE 0 END) AS existing_customer_count\n",
    "FROM customers\n",
    "GROUP BY Attrition_Flag\n",
    "ORDER BY SUM(Total_Trans_Amt) DESC;"
   ]
  },
  {
   "cell_type": "code",
   "execution_count": null,
   "metadata": {},
   "outputs": [],
   "source": [
    "%%sql\n",
    "\n",
    "SELECT \n",
    "CONCAT(ROUND(SUM(CASE WHEN Attrition_Flag = '1' THEN 1 ELSE 0 END) / COUNT(*) * 100, 2), '%') AS churned_customer_percentage,\n",
    "CONCAT(ROUND(SUM(CASE WHEN Attrition_Flag = '0' THEN 1 ELSE 0 END) / COUNT(*) * 100, 2), '%') AS existing_customer_percentage\n",
    "FROM customers;"
   ]
  },
  {
   "cell_type": "markdown",
   "metadata": {},
   "source": [
    "PROJECT 2: This is an analysis of a Bank credit card customers in SQL. The objective is to know the demographics of churned customers, attrition based on card category and month on book."
   ]
  },
  {
   "cell_type": "markdown",
   "metadata": {},
   "source": [
    "/*Age Group Distribution of Attrited Customers*/"
   ]
  },
  {
   "cell_type": "code",
   "execution_count": null,
   "metadata": {},
   "outputs": [],
   "source": [
    "%%sql\n",
    "\n",
    "Select Case When Customer_Age<20 Then \"0-20\"\n",
    "       When Customer_Age Between 20 And 30 Then \"20-30\" When Customer_Age Between 30 And 40 Then \"30-40\"\n",
    "       When Customer_Age Between 40 And 50 Then \"40-50\" When Customer_Age Between 50 And 60 Then \"50-60\"\n",
    "       When Customer_Age Between 60 And 70 Then \"60-70\" When Customer_Age Between 70 And 80 Then \"70-80\"\n",
    "       When Customer_Age>80 Then \"Above 80\" End As Age_Range, Count(*) \n",
    "From customers \n",
    "Where Attrition_Flag = \"Attrited Customer\"\n",
    "Group by Age_Range \n",
    "Order by Age_Range;"
   ]
  },
  {
   "cell_type": "markdown",
   "metadata": {},
   "source": [
    "/*Proportion of Male and Female in Attrited and Existing Customers*/"
   ]
  },
  {
   "cell_type": "code",
   "execution_count": null,
   "metadata": {},
   "outputs": [],
   "source": [
    "%%sql\n",
    "\n",
    "Select SUM(If(Gender=\"M\",1,\"NULL\")) As MaleExistingCustomers,\n",
    "\t   SUM(If(Gender=\"F\",1,\"NULL\")) As FemaleExistingCustomers\n",
    "From customers\n",
    "Where Attrition_Flag = \"Existing Customer\";\n",
    "Select SUM(If(Gender=\"M\",1,\"NULL\")) As MaleAttritedCustomers,\n",
    "\t   SUM(If\n",
    "\t       (Gender = \"F\",1,\"NULL\")) As FemaleAttritedCustomers\n",
    "From customers\n",
    "Where Attrition_Flag = \"Attrited Customer\";  "
   ]
  },
  {
   "cell_type": "markdown",
   "metadata": {},
   "source": [
    "/*Distribution of Attrited and Existing Customers based on Dependent Count*/"
   ]
  },
  {
   "cell_type": "code",
   "execution_count": null,
   "metadata": {},
   "outputs": [],
   "source": [
    "%%sql\n",
    "\n",
    "Select Dependent_count, Count(*)\n",
    "From customers\n",
    "Where Attrition_Flag = \"Existing Customer\" \n",
    "Group by Dependent_count\n",
    "Order by Dependent_count;\n",
    "Select Dependent_count, Count(*)\n",
    "From customers\n",
    "Where Attrition_Flag = \"Attrited Customer\" \n",
    "Group by Dependent_count\n",
    "Order by Dependent_count;\n"
   ]
  },
  {
   "cell_type": "markdown",
   "metadata": {},
   "source": [
    "/*Education Level of Existing and Attrited Customers*/"
   ]
  },
  {
   "cell_type": "code",
   "execution_count": null,
   "metadata": {},
   "outputs": [],
   "source": [
    "%%sql\n",
    "\n",
    "Select Education_level, Count(*)\n",
    "From customers\n",
    "Where Attrition_Flag= \"Existing Customer\" \n",
    "Group by Education_Level\n",
    "Order by Count(*);\n",
    "Select Education_level, Count(*)\n",
    "From customers\n",
    "Where Attrition_Flag= \"Attrited Customer\" \n",
    "Group by Education_Level\n",
    "Order by Count(*);\n"
   ]
  },
  {
   "cell_type": "markdown",
   "metadata": {},
   "source": [
    "/*Marital Status of Existing and Attrited Customers*/"
   ]
  },
  {
   "cell_type": "code",
   "execution_count": null,
   "metadata": {},
   "outputs": [],
   "source": [
    "%%sql\n",
    "\n",
    "Select Marital_Status, Count(*)\n",
    "From customers\n",
    "Where Attrition_Flag= \"Existing Customer\" \n",
    "Group by Marital_Status\n",
    "Order by Count(*);\n",
    "Select Marital_Status, Count(*)\n",
    "From customers\n",
    "Where Attrition_Flag= \"Attrited Customer\" \n",
    "Group by Marital_Status\n",
    "Order by Count(*);"
   ]
  },
  {
   "cell_type": "markdown",
   "metadata": {},
   "source": [
    "/*Distribution of Existing and Attrited Customers Based on Card Category*/"
   ]
  },
  {
   "cell_type": "code",
   "execution_count": null,
   "metadata": {},
   "outputs": [],
   "source": [
    "%%sql\n",
    "\n",
    "Select Card_Category, Count(*)\n",
    "From customers\n",
    "Where Attrition_Flag= \"Existing Customer\" \n",
    "Group by Card_Category\n",
    "Order by Count(*);\n",
    "Select Card_Category, Count(*)\n",
    "From customers\n",
    "Where Attrition_Flag= \"Attrited Customer\" \n",
    "Group by Card_Category\n",
    "Order by Count(*);"
   ]
  },
  {
   "cell_type": "markdown",
   "metadata": {},
   "source": [
    "/*Attrited Customers based on Months on Book*/"
   ]
  },
  {
   "cell_type": "code",
   "execution_count": null,
   "metadata": {},
   "outputs": [],
   "source": [
    "%%sql\n",
    "\n",
    "Select Case When Months_on_book<20 Then \"0-20\"\n",
    "       When Months_on_book Between 20 And 30 Then \"20-30\" When Months_on_book Between 30 And 40 Then \"30-40\"\n",
    "       When Months_on_book Between 40 And 50 Then \"40-50\" When Months_on_book Between 50 And 60 Then \"50-60\"\n",
    "       When Customer_Age>60 Then \"Above 60\" End As MonthsonBook_Range, Count(*) \n",
    "From customers \n",
    "Where Attrition_Flag = \"Attrited Customer\" \n",
    "Group by MonthsonBook_Range \n",
    "Order by MonthsonBook_Range;\n"
   ]
  },
  {
   "cell_type": "markdown",
   "metadata": {},
   "source": [
    "/*Inactive Months of Existing and Attrited Customers*/"
   ]
  },
  {
   "cell_type": "code",
   "execution_count": null,
   "metadata": {},
   "outputs": [],
   "source": [
    "%%sql\n",
    "\n",
    "Select Months_Inactive_12_mon, Count(*)\n",
    "From customers\n",
    "Where Attrition_Flag = \"Attrited Customer\"\n",
    "Group by Months_Inactive_12_mon\n",
    "Order by Count(*);\n",
    "Select Months_Inactive_12_mon, Count(*)\n",
    "From customers\n",
    "Where Attrition_Flag = \"Existing Customer\"\n",
    "Group by Months_Inactive_12_mon\n",
    "Order by Count(*);\n"
   ]
  },
  {
   "cell_type": "markdown",
   "metadata": {},
   "source": [
    "/*Average Utilization of Existing and Attrited Customer*/"
   ]
  },
  {
   "cell_type": "code",
   "execution_count": null,
   "metadata": {},
   "outputs": [],
   "source": [
    "%%sql\n",
    "\n",
    "Select Attrition_Flag, Round(Avg(Avg_Utilization_Ratio)*100,2) As AvgUtilization\n",
    "From customers\n",
    "Where Attrition_Flag=\"Attrited Customer\";\n",
    "Select Attrition_Flag, Round(Avg(Avg_Utilization_Ratio)*100,2) As AvgUtilization\n",
    "From customers\n",
    "Where Attrition_Flag=\"Existing Customer\";"
   ]
  }
 ],
 "metadata": {
  "kernelspec": {
   "display_name": "base",
   "language": "python",
   "name": "python3"
  },
  "language_info": {
   "codemirror_mode": {
    "name": "ipython",
    "version": 3
   },
   "file_extension": ".py",
   "mimetype": "text/x-python",
   "name": "python",
   "nbconvert_exporter": "python",
   "pygments_lexer": "ipython3",
   "version": "3.9.16"
  },
  "orig_nbformat": 4
 },
 "nbformat": 4,
 "nbformat_minor": 2
}
